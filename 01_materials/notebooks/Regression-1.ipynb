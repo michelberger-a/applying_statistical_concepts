{
 "cells": [
  {
   "cell_type": "markdown",
   "metadata": {},
   "source": [
    "### Install Packages and Import Dataset\n",
    "\n",
    "In this notebook, we’ll be working with a data set of 932 real estate transactions in Sacramento, California. This dataset contains several features regarding property details, including location, size, type, and price..\n",
    "\n",
    "Each row in the dataset represents a listing, with various property details:\n",
    "\n",
    "- **City:** The city where the property is located.\n",
    "- **Zip:** The postal code for the property’s location.\n",
    "- **Beds:** The number of bedrooms in the property.\n",
    "- **Baths:** The number of bathrooms in the property.\n",
    "- **Sqft:** The square footage of the property.\n",
    "- **Type:** The type of property (e.g., Residential).\n",
    "- **Latitude:** The latitude coordinate of the property.\n",
    "- **Longitude:** The longitude coordinate of the property.\n",
    "\n",
    "The target column is **Price**, which we will try to predict based on the other features in the dataset.\n",
    "\n",
    "This dataset was obtained from [spatialkey](https://support.spatialkey.com/spatialkey-sample-csv-data/)"
   ]
  },
  {
   "cell_type": "code",
   "execution_count": 1,
   "metadata": {},
   "outputs": [],
   "source": [
    "import numpy as np\n",
    "import pandas as pd\n",
    "import matplotlib.pyplot as plt\n",
    "from sklearn.model_selection import GridSearchCV, train_test_split\n",
    "from sklearn.compose import make_column_transformer\n",
    "from sklearn.pipeline import make_pipeline\n",
    "from sklearn.preprocessing import StandardScaler\n",
    "from sklearn import set_config\n",
    "from sklearn.neighbors import KNeighborsRegressor\n",
    "from sklearn.metrics import mean_squared_error"
   ]
  },
  {
   "cell_type": "markdown",
   "metadata": {},
   "source": [
    "## Our question: **Can we use the size of a house in the Sacramento, CA area to predict its sale price?**"
   ]
  },
  {
   "cell_type": "code",
   "execution_count": 2,
   "metadata": {},
   "outputs": [
    {
     "data": {
      "text/html": [
       "<div>\n",
       "<style scoped>\n",
       "    .dataframe tbody tr th:only-of-type {\n",
       "        vertical-align: middle;\n",
       "    }\n",
       "\n",
       "    .dataframe tbody tr th {\n",
       "        vertical-align: top;\n",
       "    }\n",
       "\n",
       "    .dataframe thead th {\n",
       "        text-align: right;\n",
       "    }\n",
       "</style>\n",
       "<table border=\"1\" class=\"dataframe\">\n",
       "  <thead>\n",
       "    <tr style=\"text-align: right;\">\n",
       "      <th></th>\n",
       "      <th>street</th>\n",
       "      <th>city</th>\n",
       "      <th>zip</th>\n",
       "      <th>state</th>\n",
       "      <th>beds</th>\n",
       "      <th>baths</th>\n",
       "      <th>sq__ft</th>\n",
       "      <th>type</th>\n",
       "      <th>sale_date</th>\n",
       "      <th>price</th>\n",
       "      <th>latitude</th>\n",
       "      <th>longitude</th>\n",
       "    </tr>\n",
       "  </thead>\n",
       "  <tbody>\n",
       "    <tr>\n",
       "      <th>0</th>\n",
       "      <td>1 KENNELFORD CIR</td>\n",
       "      <td>SACRAMENTO</td>\n",
       "      <td>95823</td>\n",
       "      <td>CA</td>\n",
       "      <td>3</td>\n",
       "      <td>2</td>\n",
       "      <td>1144</td>\n",
       "      <td>Residential</td>\n",
       "      <td>Mon May 19 00:00:00 EDT 2008</td>\n",
       "      <td>200345</td>\n",
       "      <td>38.464520</td>\n",
       "      <td>-121.427606</td>\n",
       "    </tr>\n",
       "    <tr>\n",
       "      <th>1</th>\n",
       "      <td>10 SEA FOAM CT</td>\n",
       "      <td>SACRAMENTO</td>\n",
       "      <td>95831</td>\n",
       "      <td>CA</td>\n",
       "      <td>3</td>\n",
       "      <td>3</td>\n",
       "      <td>2052</td>\n",
       "      <td>Residential</td>\n",
       "      <td>Wed May 21 00:00:00 EDT 2008</td>\n",
       "      <td>415000</td>\n",
       "      <td>38.487885</td>\n",
       "      <td>-121.545947</td>\n",
       "    </tr>\n",
       "    <tr>\n",
       "      <th>2</th>\n",
       "      <td>100 CHELSEA CT</td>\n",
       "      <td>FOLSOM</td>\n",
       "      <td>95630</td>\n",
       "      <td>CA</td>\n",
       "      <td>3</td>\n",
       "      <td>2</td>\n",
       "      <td>1905</td>\n",
       "      <td>Residential</td>\n",
       "      <td>Mon May 19 00:00:00 EDT 2008</td>\n",
       "      <td>500000</td>\n",
       "      <td>38.694350</td>\n",
       "      <td>-121.177259</td>\n",
       "    </tr>\n",
       "    <tr>\n",
       "      <th>3</th>\n",
       "      <td>100 REBECCA WAY</td>\n",
       "      <td>FOLSOM</td>\n",
       "      <td>95630</td>\n",
       "      <td>CA</td>\n",
       "      <td>3</td>\n",
       "      <td>2</td>\n",
       "      <td>2185</td>\n",
       "      <td>Residential</td>\n",
       "      <td>Wed May 21 00:00:00 EDT 2008</td>\n",
       "      <td>344250</td>\n",
       "      <td>38.684790</td>\n",
       "      <td>-121.149199</td>\n",
       "    </tr>\n",
       "    <tr>\n",
       "      <th>4</th>\n",
       "      <td>100 TOURMALINE CIR</td>\n",
       "      <td>SACRAMENTO</td>\n",
       "      <td>95834</td>\n",
       "      <td>CA</td>\n",
       "      <td>5</td>\n",
       "      <td>3</td>\n",
       "      <td>3076</td>\n",
       "      <td>Residential</td>\n",
       "      <td>Mon May 19 00:00:00 EDT 2008</td>\n",
       "      <td>240000</td>\n",
       "      <td>38.634370</td>\n",
       "      <td>-121.510779</td>\n",
       "    </tr>\n",
       "    <tr>\n",
       "      <th>...</th>\n",
       "      <td>...</td>\n",
       "      <td>...</td>\n",
       "      <td>...</td>\n",
       "      <td>...</td>\n",
       "      <td>...</td>\n",
       "      <td>...</td>\n",
       "      <td>...</td>\n",
       "      <td>...</td>\n",
       "      <td>...</td>\n",
       "      <td>...</td>\n",
       "      <td>...</td>\n",
       "      <td>...</td>\n",
       "    </tr>\n",
       "    <tr>\n",
       "      <th>809</th>\n",
       "      <td>9880 IZILDA CT</td>\n",
       "      <td>SACRAMENTO</td>\n",
       "      <td>95829</td>\n",
       "      <td>CA</td>\n",
       "      <td>5</td>\n",
       "      <td>4</td>\n",
       "      <td>3863</td>\n",
       "      <td>Residential</td>\n",
       "      <td>Fri May 16 00:00:00 EDT 2008</td>\n",
       "      <td>598695</td>\n",
       "      <td>38.453260</td>\n",
       "      <td>-121.325730</td>\n",
       "    </tr>\n",
       "    <tr>\n",
       "      <th>810</th>\n",
       "      <td>993 MANTON CT</td>\n",
       "      <td>GALT</td>\n",
       "      <td>95632</td>\n",
       "      <td>CA</td>\n",
       "      <td>4</td>\n",
       "      <td>3</td>\n",
       "      <td>2307</td>\n",
       "      <td>Residential</td>\n",
       "      <td>Tue May 20 00:00:00 EDT 2008</td>\n",
       "      <td>300000</td>\n",
       "      <td>38.272942</td>\n",
       "      <td>-121.289148</td>\n",
       "    </tr>\n",
       "    <tr>\n",
       "      <th>811</th>\n",
       "      <td>9937 BURLINE ST</td>\n",
       "      <td>SACRAMENTO</td>\n",
       "      <td>95827</td>\n",
       "      <td>CA</td>\n",
       "      <td>3</td>\n",
       "      <td>2</td>\n",
       "      <td>1092</td>\n",
       "      <td>Residential</td>\n",
       "      <td>Fri May 16 00:00:00 EDT 2008</td>\n",
       "      <td>150000</td>\n",
       "      <td>38.559641</td>\n",
       "      <td>-121.323160</td>\n",
       "    </tr>\n",
       "    <tr>\n",
       "      <th>812</th>\n",
       "      <td>9949 NESTLING CIR</td>\n",
       "      <td>ELK GROVE</td>\n",
       "      <td>95757</td>\n",
       "      <td>CA</td>\n",
       "      <td>3</td>\n",
       "      <td>2</td>\n",
       "      <td>1543</td>\n",
       "      <td>Residential</td>\n",
       "      <td>Fri May 16 00:00:00 EDT 2008</td>\n",
       "      <td>275000</td>\n",
       "      <td>38.397455</td>\n",
       "      <td>-121.468391</td>\n",
       "    </tr>\n",
       "    <tr>\n",
       "      <th>813</th>\n",
       "      <td>9970 STATE HIGHWAY 193</td>\n",
       "      <td>PLACERVILLE</td>\n",
       "      <td>95667</td>\n",
       "      <td>CA</td>\n",
       "      <td>4</td>\n",
       "      <td>3</td>\n",
       "      <td>1929</td>\n",
       "      <td>Residential</td>\n",
       "      <td>Tue May 20 00:00:00 EDT 2008</td>\n",
       "      <td>485000</td>\n",
       "      <td>38.787877</td>\n",
       "      <td>-120.816676</td>\n",
       "    </tr>\n",
       "  </tbody>\n",
       "</table>\n",
       "<p>814 rows × 12 columns</p>\n",
       "</div>"
      ],
      "text/plain": [
       "                     street         city    zip state  beds  baths  sq__ft  \\\n",
       "0          1 KENNELFORD CIR   SACRAMENTO  95823    CA     3      2    1144   \n",
       "1            10 SEA FOAM CT   SACRAMENTO  95831    CA     3      3    2052   \n",
       "2            100 CHELSEA CT       FOLSOM  95630    CA     3      2    1905   \n",
       "3           100 REBECCA WAY       FOLSOM  95630    CA     3      2    2185   \n",
       "4        100 TOURMALINE CIR   SACRAMENTO  95834    CA     5      3    3076   \n",
       "..                      ...          ...    ...   ...   ...    ...     ...   \n",
       "809          9880 IZILDA CT   SACRAMENTO  95829    CA     5      4    3863   \n",
       "810           993 MANTON CT         GALT  95632    CA     4      3    2307   \n",
       "811         9937 BURLINE ST   SACRAMENTO  95827    CA     3      2    1092   \n",
       "812       9949 NESTLING CIR    ELK GROVE  95757    CA     3      2    1543   \n",
       "813  9970 STATE HIGHWAY 193  PLACERVILLE  95667    CA     4      3    1929   \n",
       "\n",
       "            type                     sale_date   price   latitude   longitude  \n",
       "0    Residential  Mon May 19 00:00:00 EDT 2008  200345  38.464520 -121.427606  \n",
       "1    Residential  Wed May 21 00:00:00 EDT 2008  415000  38.487885 -121.545947  \n",
       "2    Residential  Mon May 19 00:00:00 EDT 2008  500000  38.694350 -121.177259  \n",
       "3    Residential  Wed May 21 00:00:00 EDT 2008  344250  38.684790 -121.149199  \n",
       "4    Residential  Mon May 19 00:00:00 EDT 2008  240000  38.634370 -121.510779  \n",
       "..           ...                           ...     ...        ...         ...  \n",
       "809  Residential  Fri May 16 00:00:00 EDT 2008  598695  38.453260 -121.325730  \n",
       "810  Residential  Tue May 20 00:00:00 EDT 2008  300000  38.272942 -121.289148  \n",
       "811  Residential  Fri May 16 00:00:00 EDT 2008  150000  38.559641 -121.323160  \n",
       "812  Residential  Fri May 16 00:00:00 EDT 2008  275000  38.397455 -121.468391  \n",
       "813  Residential  Tue May 20 00:00:00 EDT 2008  485000  38.787877 -120.816676  \n",
       "\n",
       "[814 rows x 12 columns]"
      ]
     },
     "execution_count": 2,
     "metadata": {},
     "output_type": "execute_result"
    }
   ],
   "source": [
    "# Output dataframes instead of arrays\n",
    "set_config(transform_output=\"pandas\")\n",
    "\n",
    "sacramento = pd.read_csv(\"dataset/sacramento.csv\")\n",
    "sacramento"
   ]
  },
  {
   "cell_type": "markdown",
   "metadata": {},
   "source": [
    "This question guides our initial exploration: and after looking at the data, we can see that the columns in the data that we are interested in are \n",
    "- sq__ft (house size, in livable square feet)\n",
    "-  price (house sale price, in US dollars (USD)). "
   ]
  },
  {
   "cell_type": "code",
   "execution_count": null,
   "metadata": {},
   "outputs": [],
   "source": [
    "# normally we would consider more variables for a model because of what we have available\n",
    "# there are only 814 rows, would like more data if possible"
   ]
  },
  {
   "cell_type": "markdown",
   "metadata": {},
   "source": [
    "### Visualizing the Data\n",
    "\n",
    "Now, let’s create a scatter plot to visualize the relationship between the predictor variable (**house size**) on the x-axis, and we place the response variable that we want to predict (**sale price**) on the y-axis."
   ]
  },
  {
   "cell_type": "code",
   "execution_count": 3,
   "metadata": {},
   "outputs": [
    {
     "data": {
      "image/png": "[encoded data removed]",
      "text/plain": [
       "<Figure size 640x480 with 1 Axes>"
      ]
     },
     "metadata": {},
     "output_type": "display_data"
    }
   ],
   "source": [
    "# Plot\n",
    "plt.scatter(sacramento[\"sq__ft\"], sacramento['price'])\n",
    "\n",
    "# Add labels and legend\n",
    "plt.xlabel(\"House size (square feet)\")\n",
    "plt.ylabel('Price (USD)')\n",
    "plt.title('Scatter Plot of House size vs Price')\n",
    "plt.show()\n",
    "\n",
    "# we see the fit of house size to house price\n",
    "# larger houses = higher price\n",
    "# possible to predict house price by house size"
   ]
  },
  {
   "cell_type": "markdown",
   "metadata": {},
   "source": [
    "We can see that in Sacramento, CA, larger houses tend to have higher sale prices. This means we might be able to predict the sale price of a house we haven't sold yet based on its size. \n",
    "\n",
    "> **Note**:\n",
    "> It's important to remember that we're not saying a bigger house **causes** a higher price; we're just observing that larger houses generally sell for more, so size can help us estimate the price."
   ]
  },
  {
   "cell_type": "code",
   "execution_count": null,
   "metadata": {},
   "outputs": [],
   "source": [
    "# recall correlations and relationships vs casual\n",
    "# totally different from statistical perspective\n",
    "# everything is about correlation and not causation\n",
    "# fairly robust to outliers in comparison to classifiers"
   ]
  },
  {
   "cell_type": "markdown",
   "metadata": {},
   "source": [
    "### K-nearest neighbors regression"
   ]
  },
  {
   "cell_type": "markdown",
   "metadata": {},
   "source": [
    "KNN regression is like K-Nearest Neighbors, but instead of predicting a category, it predicts a number. It looks at the closest `k` data points and then takes the average of their values to make the prediction. For example, if you want to predict a house price, KNN regression will look at the prices of the closest `k` houses and use their average as the predicted price.\n",
    "\n",
    "Let's start with a small sample of the data to understand how K-nearest neighbors (KNN) works for regression. By using this small subset, we can illustrate the basics of KNN regression and how it predicts house sale prices before building and evaluating a full model.\n",
    "\n",
    "To take a small random sample of size 30, we’ll use the `sample` method on the sacramento data frame, specifying that we want to select n=30 rows."
   ]
  },
  {
   "cell_type": "code",
   "execution_count": null,
   "metadata": {},
   "outputs": [],
   "source": [
    "# we are now predicting a number rather than a classification\n",
    "# i.e. house price instead of of sale above or below a number"
   ]
  },
  {
   "cell_type": "code",
   "execution_count": 4,
   "metadata": {},
   "outputs": [],
   "source": [
    "#set seed for reproducibility\n",
    "np.random.seed(10)\n",
    "small_sacramento = sacramento.sample(n=30)"
   ]
  },
  {
   "cell_type": "markdown",
   "metadata": {},
   "source": [
    "To estimate the sale price of a 2,000 square-foot house in Sacramento when we don't have exact data for that size, we can use KNN.\n",
    "\n",
    "1. **Find Similar Houses**: Identify houses in the dataset that are closest in size to 2,000 square feet. This involves calculating the distance between the 2,000 square-foot house and the sizes of other houses in the dataset.\n",
    "\n",
    "2. **Select Neighbors**: Choose a small number of these closest houses (the \"neighbors\"). The number of neighbors is a parameter you can set for KNN.\n",
    "\n",
    "3. **Average Price**: Calculate the average sale price of these neighbors. This average will give you an estimate of the price for the 2,000 square-foot house.\n",
    "\n",
    "By using this approach, you can make an informed offer based on the sale prices of similar houses in the dataset, even though you don’t have an exact match for the 2,000 square-foot size."
   ]
  },
  {
   "cell_type": "code",
   "execution_count": 5,
   "metadata": {},
   "outputs": [
    {
     "data": {
      "image/png": "[encoded data removed]",
      "text/plain": [
       "<Figure size 640x480 with 1 Axes>"
      ]
     },
     "metadata": {},
     "output_type": "display_data"
    }
   ],
   "source": [
    "# Plot\n",
    "plt.scatter(small_sacramento[\"sq__ft\"], small_sacramento['price'])\n",
    "\n",
    "# Add a vertical line at 2,000 square feet\n",
    "plt.axvline(x=2000, color='red', linestyle='--', label='2000 sqft')\n",
    "\n",
    "# Add labels and legend\n",
    "plt.xlabel(\"House size (square feet)\")\n",
    "plt.ylabel('Price (USD)')\n",
    "plt.title('Scatter Plot of House size vs Price')\n",
    "\n",
    "plt.show()"
   ]
  },
  {
   "cell_type": "markdown",
   "metadata": {},
   "source": [
    "We will employ the same idea as our prior notebooks, and use the neighboring points to the new point of interest to predict what its sale price might be. \n",
    "\n",
    "For the example here we find and label the 5 nearest neighbors to our observation of a house that is 2,000 square feet."
   ]
  },
  {
   "cell_type": "code",
   "execution_count": null,
   "metadata": {},
   "outputs": [],
   "source": [
    "# first step is always compute the distance\n",
    "# one feature, makes it easy to find"
   ]
  },
  {
   "cell_type": "code",
   "execution_count": 6,
   "metadata": {},
   "outputs": [
    {
     "data": {
      "text/html": [
       "<div>\n",
       "<style scoped>\n",
       "    .dataframe tbody tr th:only-of-type {\n",
       "        vertical-align: middle;\n",
       "    }\n",
       "\n",
       "    .dataframe tbody tr th {\n",
       "        vertical-align: top;\n",
       "    }\n",
       "\n",
       "    .dataframe thead th {\n",
       "        text-align: right;\n",
       "    }\n",
       "</style>\n",
       "<table border=\"1\" class=\"dataframe\">\n",
       "  <thead>\n",
       "    <tr style=\"text-align: right;\">\n",
       "      <th></th>\n",
       "      <th>street</th>\n",
       "      <th>city</th>\n",
       "      <th>zip</th>\n",
       "      <th>state</th>\n",
       "      <th>beds</th>\n",
       "      <th>baths</th>\n",
       "      <th>sq__ft</th>\n",
       "      <th>type</th>\n",
       "      <th>sale_date</th>\n",
       "      <th>price</th>\n",
       "      <th>latitude</th>\n",
       "      <th>longitude</th>\n",
       "      <th>dist</th>\n",
       "    </tr>\n",
       "  </thead>\n",
       "  <tbody>\n",
       "    <tr>\n",
       "      <th>250</th>\n",
       "      <td>3361 ALDER CANYON WAY</td>\n",
       "      <td>ANTELOPE</td>\n",
       "      <td>95843</td>\n",
       "      <td>CA</td>\n",
       "      <td>4</td>\n",
       "      <td>3</td>\n",
       "      <td>2085</td>\n",
       "      <td>Residential</td>\n",
       "      <td>Mon May 19 00:00:00 EDT 2008</td>\n",
       "      <td>408431</td>\n",
       "      <td>38.727649</td>\n",
       "      <td>-121.385656</td>\n",
       "      <td>85</td>\n",
       "    </tr>\n",
       "    <tr>\n",
       "      <th>318</th>\n",
       "      <td>4143 SEA MEADOW WAY</td>\n",
       "      <td>SACRAMENTO</td>\n",
       "      <td>95823</td>\n",
       "      <td>CA</td>\n",
       "      <td>4</td>\n",
       "      <td>3</td>\n",
       "      <td>1915</td>\n",
       "      <td>Residential</td>\n",
       "      <td>Wed May 21 00:00:00 EDT 2008</td>\n",
       "      <td>351300</td>\n",
       "      <td>38.465340</td>\n",
       "      <td>-121.457519</td>\n",
       "      <td>85</td>\n",
       "    </tr>\n",
       "    <tr>\n",
       "      <th>744</th>\n",
       "      <td>8884 AMBERJACK WAY</td>\n",
       "      <td>SACRAMENTO</td>\n",
       "      <td>95828</td>\n",
       "      <td>CA</td>\n",
       "      <td>3</td>\n",
       "      <td>2</td>\n",
       "      <td>2161</td>\n",
       "      <td>Residential</td>\n",
       "      <td>Fri May 16 00:00:00 EDT 2008</td>\n",
       "      <td>170250</td>\n",
       "      <td>38.479343</td>\n",
       "      <td>-121.372553</td>\n",
       "      <td>161</td>\n",
       "    </tr>\n",
       "    <tr>\n",
       "      <th>52</th>\n",
       "      <td>1178 WARMWOOD CT</td>\n",
       "      <td>GALT</td>\n",
       "      <td>95632</td>\n",
       "      <td>CA</td>\n",
       "      <td>4</td>\n",
       "      <td>2</td>\n",
       "      <td>1770</td>\n",
       "      <td>Residential</td>\n",
       "      <td>Thu May 15 00:00:00 EDT 2008</td>\n",
       "      <td>220000</td>\n",
       "      <td>38.289544</td>\n",
       "      <td>-121.284607</td>\n",
       "      <td>230</td>\n",
       "    </tr>\n",
       "    <tr>\n",
       "      <th>546</th>\n",
       "      <td>6671 FOXWOOD CT</td>\n",
       "      <td>SACRAMENTO</td>\n",
       "      <td>95841</td>\n",
       "      <td>CA</td>\n",
       "      <td>4</td>\n",
       "      <td>2</td>\n",
       "      <td>1766</td>\n",
       "      <td>Residential</td>\n",
       "      <td>Mon May 19 00:00:00 EDT 2008</td>\n",
       "      <td>207000</td>\n",
       "      <td>38.687943</td>\n",
       "      <td>-121.328883</td>\n",
       "      <td>234</td>\n",
       "    </tr>\n",
       "  </tbody>\n",
       "</table>\n",
       "</div>"
      ],
      "text/plain": [
       "                    street        city    zip state  beds  baths  sq__ft  \\\n",
       "250  3361 ALDER CANYON WAY    ANTELOPE  95843    CA     4      3    2085   \n",
       "318    4143 SEA MEADOW WAY  SACRAMENTO  95823    CA     4      3    1915   \n",
       "744     8884 AMBERJACK WAY  SACRAMENTO  95828    CA     3      2    2161   \n",
       "52        1178 WARMWOOD CT        GALT  95632    CA     4      2    1770   \n",
       "546        6671 FOXWOOD CT  SACRAMENTO  95841    CA     4      2    1766   \n",
       "\n",
       "            type                     sale_date   price   latitude   longitude  \\\n",
       "250  Residential  Mon May 19 00:00:00 EDT 2008  408431  38.727649 -121.385656   \n",
       "318  Residential  Wed May 21 00:00:00 EDT 2008  351300  38.465340 -121.457519   \n",
       "744  Residential  Fri May 16 00:00:00 EDT 2008  170250  38.479343 -121.372553   \n",
       "52   Residential  Thu May 15 00:00:00 EDT 2008  220000  38.289544 -121.284607   \n",
       "546  Residential  Mon May 19 00:00:00 EDT 2008  207000  38.687943 -121.328883   \n",
       "\n",
       "     dist  \n",
       "250    85  \n",
       "318    85  \n",
       "744   161  \n",
       "52    230  \n",
       "546   234  "
      ]
     },
     "execution_count": 6,
     "metadata": {},
     "output_type": "execute_result"
    }
   ],
   "source": [
    "# Calculate the absolute difference between 2000 and the square footage of each house\n",
    "small_sacramento[\"dist\"] = (2000 - small_sacramento[\"sq__ft\"]).abs()\n",
    "\n",
    "# Find the 5 rows with the smallest distances (closest to 2000 square feet)\n",
    "nearest_neighbors = small_sacramento.nsmallest(5, \"dist\") # this takes the 5 lowest values of the specified column\n",
    "\n",
    "# Display the 5 nearest neighbors\n",
    "nearest_neighbors"
   ]
  },
  {
   "cell_type": "code",
   "execution_count": 7,
   "metadata": {},
   "outputs": [
    {
     "data": {
      "text/plain": [
       "<matplotlib.legend.Legend at 0x1f5ef238dc0>"
      ]
     },
     "execution_count": 7,
     "metadata": {},
     "output_type": "execute_result"
    },
    {
     "data": {
      "image/png": "[encoded data removed]",
      "text/plain": [
       "<Figure size 640x480 with 1 Axes>"
      ]
     },
     "metadata": {},
     "output_type": "display_data"
    }
   ],
   "source": [
    "# Scatter plot\n",
    "plt.scatter(small_sacramento[\"sq__ft\"], small_sacramento['price'], label='All houses')\n",
    "\n",
    "# Plot nearest neighbors in orange\n",
    "plt.scatter(nearest_neighbors[\"sq__ft\"], nearest_neighbors['price'], color='orange', label='Nearest neighbors', edgecolor='black')\n",
    "\n",
    "# Add a vertical line at 2,000 square feet\n",
    "plt.axvline(x=2000, color='red', linestyle='--', label='2000 sqft')\n",
    "\n",
    "# Add labels, title, and legend\n",
    "plt.xlabel(\"House size (square feet)\")\n",
    "plt.ylabel('Price (USD)')\n",
    "plt.title('Scatter Plot of House Size vs Price')\n",
    "plt.legend()"
   ]
  },
  {
   "cell_type": "code",
   "execution_count": null,
   "metadata": {},
   "outputs": [],
   "source": [
    "# these yellow points are the 5 nearest neighbours\n",
    "# just a way to visualize these 5 neighbours\n",
    "# basically take the average of the 5 nearest price values and use that as the prediction"
   ]
  },
  {
   "cell_type": "markdown",
   "metadata": {},
   "source": [
    "We can then take the mean (or average) of these 5 values as our predicted value,"
   ]
  },
  {
   "cell_type": "code",
   "execution_count": 8,
   "metadata": {},
   "outputs": [
    {
     "data": {
      "text/plain": [
       "271396.2"
      ]
     },
     "execution_count": 8,
     "metadata": {},
     "output_type": "execute_result"
    }
   ],
   "source": [
    "prediction = nearest_neighbors[\"price\"].mean()\n",
    "prediction"
   ]
  },
  {
   "cell_type": "markdown",
   "metadata": {},
   "source": [
    "Similar to KNN classification, we have some remaining steps. which $K$ do we choose, and is our model any good at making predictions?"
   ]
  },
  {
   "cell_type": "markdown",
   "metadata": {},
   "source": [
    "### Training, evaluating, and tuning the model"
   ]
  },
  {
   "cell_type": "markdown",
   "metadata": {},
   "source": [
    "Step 1. Split the dataset into test and train"
   ]
  },
  {
   "cell_type": "code",
   "execution_count": 9,
   "metadata": {},
   "outputs": [],
   "source": [
    "sacramento_train, sacramento_test = train_test_split(\n",
    "    sacramento, train_size=0.75, random_state=42\n",
    ")\n",
    "\n",
    "# train size = 0.75, represents the split to training, the rest goes to testing"
   ]
  },
  {
   "cell_type": "code",
   "execution_count": 10,
   "metadata": {},
   "outputs": [
    {
     "data": {
      "text/plain": [
       "(610, 12)"
      ]
     },
     "execution_count": 10,
     "metadata": {},
     "output_type": "execute_result"
    }
   ],
   "source": [
    "sacramento_train.shape"
   ]
  },
  {
   "cell_type": "code",
   "execution_count": 11,
   "metadata": {},
   "outputs": [
    {
     "data": {
      "text/plain": [
       "(204, 12)"
      ]
     },
     "execution_count": 11,
     "metadata": {},
     "output_type": "execute_result"
    }
   ],
   "source": [
    "sacramento_test.shape"
   ]
  },
  {
   "cell_type": "markdown",
   "metadata": {},
   "source": [
    "Step 2. Cross-validation\n",
    "\n",
    "In KNN regression, to evaluate how well the model predicts the response variable, we use root mean square prediction error (RMSPE). The formula for calculating RMSPE is:\n",
    "\n",
    "$$\n",
    " \\text{RMSPE} = \\sqrt{\\frac{1}{n} \\sum_{i=1}^n \\left( \\frac{y_i - \\hat{y}_i}{y_i} \\right)^2} \n",
    " $$\n",
    "\n",
    "where:\n",
    "- $ y_i $ is the true value of the response variable,\n",
    "- $ \\hat{y}_i $ is the predicted value from the model,\n",
    "- $ n $ is the number of observations.\n",
    "\n",
    "RMSPE measures how much our predictions deviate from the actual values. It gives us an idea of how close our predictions are to the real outcomes."
   ]
  },
  {
   "cell_type": "code",
   "execution_count": null,
   "metadata": {},
   "outputs": [],
   "source": [
    "# yi should not be in the denominator here"
   ]
  },
  {
   "cell_type": "markdown",
   "metadata": {},
   "source": [
    "Here is the above mathematical notation in python:"
   ]
  },
  {
   "cell_type": "code",
   "execution_count": 12,
   "metadata": {},
   "outputs": [],
   "source": [
    "import math\n",
    "\n",
    "def rmspe(y_true, y_pred):\n",
    "    \"\"\"\n",
    "    Calculate Root Mean Squared Prediction Error (RMSPE) is the same as RMSE\n",
    "    \n",
    "    Parameters:\n",
    "    y_true: list-like, actual values\n",
    "    y_pred: list-like, predicted values\n",
    "    \n",
    "    Returns:\n",
    "    float: RMSPE value\n",
    "    \"\"\"\n",
    "    n = len(y_true)\n",
    "    squared_percentage_errors = []\n",
    "\n",
    "    for i in range(n):\n",
    "        error = y_true[i] - y_pred[i] # this computes error by looking at difference of true to predicted value\n",
    "        squared_errors.append(error ** 2) # then square error like in the equation, append to list\n",
    "\n",
    "    mean_squared_error = sum(squared_errors) / n # this is the sigma, sum everything together\n",
    "\n",
    "    # Calculate the square root of the mean squared error\n",
    "    rmspe_value = math.sqrt(mean_squared_error) # sqrt of the mean values\n",
    "    \n",
    "    return rmspe_value"
   ]
  },
  {
   "cell_type": "markdown",
   "metadata": {},
   "source": [
    "### Let's Begin KNN Regressor Training:\n",
    "\n",
    "Let's see if there is any correlation between square footage and price."
   ]
  },
  {
   "cell_type": "code",
   "execution_count": 11,
   "metadata": {},
   "outputs": [
    {
     "name": "stdout",
     "output_type": "stream",
     "text": [
      "    n_neighbors  mean_test_score\n",
      "0             1   -108446.318437\n",
      "1             4    -87957.351153\n",
      "2             7    -85359.668339\n",
      "3            10    -84441.120770\n",
      "4            13    -84480.201855\n",
      "..          ...              ...\n",
      "62          187    -90249.576475\n",
      "63          190    -90509.191336\n",
      "64          193    -90713.318413\n",
      "65          196    -90881.146593\n",
      "66          199    -91106.561456\n",
      "\n",
      "[67 rows x 2 columns]\n"
     ]
    }
   ],
   "source": [
    "# Step 1: Split training data into X (predictor) and Y (response)\n",
    "X_train = sacramento_train[[\"sq__ft\"]]\n",
    "y_train = sacramento_train[\"price\"]\n",
    "\n",
    "# Step 2: Initialize K-NN regressor\n",
    "knn_regressor = KNeighborsRegressor()\n",
    "\n",
    "# Step 3: Define parameter grid for GridSearchCV\n",
    "param_grid = {\n",
    "    \"n_neighbors\": range(1, 201, 3),        # But wait...? What is this?\n",
    "}\n",
    "\n",
    "# Step 4: Initialize and fit GridSearchCV\n",
    "sacr_gridsearch = GridSearchCV(\n",
    "    estimator=knn_regressor,\n",
    "    param_grid=param_grid,\n",
    "    cv=5,\n",
    "    scoring=\"neg_root_mean_squared_error\"\n",
    ")\n",
    "\n",
    "sacr_gridsearch.fit(X_train, y_train)\n",
    "\n",
    "# Step 5: Retrieve and format results\n",
    "results = pd.DataFrame(sacr_gridsearch.cv_results_)     # After fitting the model, we extract the cross-validation results using `cv_results_`. This output includes various metrics and parameters tested during the cross-validation process.\n",
    "results = (\n",
    "    results[[\n",
    "        \"param_n_neighbors\",\n",
    "        \"mean_test_score\"\n",
    "    ]]\n",
    "    .rename(columns={\"param_n_neighbors\": \"n_neighbors\"})\n",
    ") # we specify the scoring metric as \"neg_root_mean_squared_error\" to evaluate the model performance based on RMSPE.\n",
    "\n",
    "print(results)"
   ]
  },
  {
   "cell_type": "markdown",
   "metadata": {},
   "source": [
    ">\n",
    "> ##### But Wait...?\n",
    ">\n",
    "> *\"Why are they using 1-200? How do they know 200 is enough?\"*\n",
    ">   - They don't! That's just an intuition, they could've done 20. They are testing values from 1 to 200 because different datasets and problems might require different optimal values for n_neighbors.\n",
    ">\n",
    "> *\"Well why are they checking every 3 steps? Why not all of them?\"*\n",
    ">   - The step size of 3 is used to reduce the number of computations, ensuring a balance between exploring a wide range of values and not taking too long by testing every possible value between 1 and 200.\n",
    ">"
   ]
  },
  {
   "cell_type": "markdown",
   "metadata": {},
   "source": [
    "Next, we can run cross-validation by calling the fit method on our GridSearchCV object (sacr_gridsearch).\n",
    "\n",
    ">\n",
    "> #### Note:\n",
    ">\n",
    "> The use of double brackets sacramento_train[[\"sqft\"]] to ensure the input features are in a DataFrame format. \n",
    "> This is important because scikit-learn often works better with DataFrames rather than Series for input features. \n",
    ">\n",
    " \n",
    "Lastly, we extract relevant columns (e.g., mean test scores and parameter values) based on the 5-fold cross-validation."
   ]
  },
  {
   "cell_type": "code",
   "execution_count": 12,
   "metadata": {},
   "outputs": [
    {
     "data": {
      "text/html": [
       "<div>\n",
       "<style scoped>\n",
       "    .dataframe tbody tr th:only-of-type {\n",
       "        vertical-align: middle;\n",
       "    }\n",
       "\n",
       "    .dataframe tbody tr th {\n",
       "        vertical-align: top;\n",
       "    }\n",
       "\n",
       "    .dataframe thead th {\n",
       "        text-align: right;\n",
       "    }\n",
       "</style>\n",
       "<table border=\"1\" class=\"dataframe\">\n",
       "  <thead>\n",
       "    <tr style=\"text-align: right;\">\n",
       "      <th></th>\n",
       "      <th>n_neighbors</th>\n",
       "      <th>mean_test_score</th>\n",
       "    </tr>\n",
       "  </thead>\n",
       "  <tbody>\n",
       "    <tr>\n",
       "      <th>0</th>\n",
       "      <td>1</td>\n",
       "      <td>-108446.318437</td>\n",
       "    </tr>\n",
       "    <tr>\n",
       "      <th>1</th>\n",
       "      <td>4</td>\n",
       "      <td>-87957.351153</td>\n",
       "    </tr>\n",
       "    <tr>\n",
       "      <th>2</th>\n",
       "      <td>7</td>\n",
       "      <td>-85359.668339</td>\n",
       "    </tr>\n",
       "    <tr>\n",
       "      <th>3</th>\n",
       "      <td>10</td>\n",
       "      <td>-84441.120770</td>\n",
       "    </tr>\n",
       "    <tr>\n",
       "      <th>4</th>\n",
       "      <td>13</td>\n",
       "      <td>-84480.201855</td>\n",
       "    </tr>\n",
       "    <tr>\n",
       "      <th>...</th>\n",
       "      <td>...</td>\n",
       "      <td>...</td>\n",
       "    </tr>\n",
       "    <tr>\n",
       "      <th>62</th>\n",
       "      <td>187</td>\n",
       "      <td>-90249.576475</td>\n",
       "    </tr>\n",
       "    <tr>\n",
       "      <th>63</th>\n",
       "      <td>190</td>\n",
       "      <td>-90509.191336</td>\n",
       "    </tr>\n",
       "    <tr>\n",
       "      <th>64</th>\n",
       "      <td>193</td>\n",
       "      <td>-90713.318413</td>\n",
       "    </tr>\n",
       "    <tr>\n",
       "      <th>65</th>\n",
       "      <td>196</td>\n",
       "      <td>-90881.146593</td>\n",
       "    </tr>\n",
       "    <tr>\n",
       "      <th>66</th>\n",
       "      <td>199</td>\n",
       "      <td>-91106.561456</td>\n",
       "    </tr>\n",
       "  </tbody>\n",
       "</table>\n",
       "<p>67 rows × 2 columns</p>\n",
       "</div>"
      ],
      "text/plain": [
       "    n_neighbors  mean_test_score\n",
       "0             1   -108446.318437\n",
       "1             4    -87957.351153\n",
       "2             7    -85359.668339\n",
       "3            10    -84441.120770\n",
       "4            13    -84480.201855\n",
       "..          ...              ...\n",
       "62          187    -90249.576475\n",
       "63          190    -90509.191336\n",
       "64          193    -90713.318413\n",
       "65          196    -90881.146593\n",
       "66          199    -91106.561456\n",
       "\n",
       "[67 rows x 2 columns]"
      ]
     },
     "execution_count": 12,
     "metadata": {},
     "output_type": "execute_result"
    }
   ],
   "source": [
    "results"
   ]
  },
  {
   "cell_type": "markdown",
   "metadata": {},
   "source": [
    "In the `results` DataFrame, the `n_neighbors` column shows the values of `n_neighbors`, and the `mean_test_score` column displays the RMSPE values estimated via cross-validation. However, RMSPE is always be nonnegative because it measures **how far off the model’s predictions are from the actual values**—the difference, like a distance, can’t be negative.\n",
    "\n",
    "Scikit-learn was built to always try to **maximize** scores. Since RMSPE is a metric where **lower is better**, it automatically flips it to a negative value (that’s why there’s a `\"neg_\"` prefix). This lets Scikit-learn treat it like a score to maximize, even though we are really trying to minimize the error. To get the actual RMSPE values, we need to convert these negative values back to positive by taking their absolute values."
   ]
  },
  {
   "cell_type": "code",
   "execution_count": 13,
   "metadata": {},
   "outputs": [
    {
     "data": {
      "text/html": [
       "<div>\n",
       "<style scoped>\n",
       "    .dataframe tbody tr th:only-of-type {\n",
       "        vertical-align: middle;\n",
       "    }\n",
       "\n",
       "    .dataframe tbody tr th {\n",
       "        vertical-align: top;\n",
       "    }\n",
       "\n",
       "    .dataframe thead th {\n",
       "        text-align: right;\n",
       "    }\n",
       "</style>\n",
       "<table border=\"1\" class=\"dataframe\">\n",
       "  <thead>\n",
       "    <tr style=\"text-align: right;\">\n",
       "      <th></th>\n",
       "      <th>n_neighbors</th>\n",
       "      <th>mean_test_score</th>\n",
       "    </tr>\n",
       "  </thead>\n",
       "  <tbody>\n",
       "    <tr>\n",
       "      <th>0</th>\n",
       "      <td>1</td>\n",
       "      <td>108446.318437</td>\n",
       "    </tr>\n",
       "    <tr>\n",
       "      <th>1</th>\n",
       "      <td>4</td>\n",
       "      <td>87957.351153</td>\n",
       "    </tr>\n",
       "    <tr>\n",
       "      <th>2</th>\n",
       "      <td>7</td>\n",
       "      <td>85359.668339</td>\n",
       "    </tr>\n",
       "    <tr>\n",
       "      <th>3</th>\n",
       "      <td>10</td>\n",
       "      <td>84441.120770</td>\n",
       "    </tr>\n",
       "    <tr>\n",
       "      <th>4</th>\n",
       "      <td>13</td>\n",
       "      <td>84480.201855</td>\n",
       "    </tr>\n",
       "    <tr>\n",
       "      <th>...</th>\n",
       "      <td>...</td>\n",
       "      <td>...</td>\n",
       "    </tr>\n",
       "    <tr>\n",
       "      <th>62</th>\n",
       "      <td>187</td>\n",
       "      <td>90249.576475</td>\n",
       "    </tr>\n",
       "    <tr>\n",
       "      <th>63</th>\n",
       "      <td>190</td>\n",
       "      <td>90509.191336</td>\n",
       "    </tr>\n",
       "    <tr>\n",
       "      <th>64</th>\n",
       "      <td>193</td>\n",
       "      <td>90713.318413</td>\n",
       "    </tr>\n",
       "    <tr>\n",
       "      <th>65</th>\n",
       "      <td>196</td>\n",
       "      <td>90881.146593</td>\n",
       "    </tr>\n",
       "    <tr>\n",
       "      <th>66</th>\n",
       "      <td>199</td>\n",
       "      <td>91106.561456</td>\n",
       "    </tr>\n",
       "  </tbody>\n",
       "</table>\n",
       "<p>67 rows × 2 columns</p>\n",
       "</div>"
      ],
      "text/plain": [
       "    n_neighbors  mean_test_score\n",
       "0             1    108446.318437\n",
       "1             4     87957.351153\n",
       "2             7     85359.668339\n",
       "3            10     84441.120770\n",
       "4            13     84480.201855\n",
       "..          ...              ...\n",
       "62          187     90249.576475\n",
       "63          190     90509.191336\n",
       "64          193     90713.318413\n",
       "65          196     90881.146593\n",
       "66          199     91106.561456\n",
       "\n",
       "[67 rows x 2 columns]"
      ]
     },
     "execution_count": 13,
     "metadata": {},
     "output_type": "execute_result"
    }
   ],
   "source": [
    "results[\"mean_test_score\"] = -results[\"mean_test_score\"]\n",
    "results"
   ]
  },
  {
   "cell_type": "markdown",
   "metadata": {},
   "source": [
    "In the updated `results` DataFrame, the `mean_test_score` now correctly reflects the RMSPE values for different numbers of neighbors. "
   ]
  },
  {
   "cell_type": "markdown",
   "metadata": {},
   "source": [
    "We can visualize how RMSPE changes with different numbers of neighbors. By finding the minimum RMSPE, we can determine the best number of neighbors for our model. In this case, the lowest RMSPE occurs when the number of neighbors is 25."
   ]
  },
  {
   "cell_type": "code",
   "execution_count": 14,
   "metadata": {},
   "outputs": [
    {
     "data": {
      "text/html": [
       "<div>\n",
       "<style scoped>\n",
       "    .dataframe tbody tr th:only-of-type {\n",
       "        vertical-align: middle;\n",
       "    }\n",
       "\n",
       "    .dataframe tbody tr th {\n",
       "        vertical-align: top;\n",
       "    }\n",
       "\n",
       "    .dataframe thead th {\n",
       "        text-align: right;\n",
       "    }\n",
       "</style>\n",
       "<table border=\"1\" class=\"dataframe\">\n",
       "  <thead>\n",
       "    <tr style=\"text-align: right;\">\n",
       "      <th></th>\n",
       "      <th>n_neighbors</th>\n",
       "      <th>mean_test_score</th>\n",
       "    </tr>\n",
       "  </thead>\n",
       "  <tbody>\n",
       "    <tr>\n",
       "      <th>8</th>\n",
       "      <td>25</td>\n",
       "      <td>82541.68058</td>\n",
       "    </tr>\n",
       "  </tbody>\n",
       "</table>\n",
       "</div>"
      ],
      "text/plain": [
       "   n_neighbors  mean_test_score\n",
       "8           25      82541.68058"
      ]
     },
     "execution_count": 14,
     "metadata": {},
     "output_type": "execute_result"
    }
   ],
   "source": [
    "results.nsmallest(1, 'mean_test_score')"
   ]
  },
  {
   "cell_type": "code",
   "execution_count": 15,
   "metadata": {},
   "outputs": [
    {
     "data": {
      "text/plain": [
       "{'n_neighbors': 25}"
      ]
     },
     "execution_count": 15,
     "metadata": {},
     "output_type": "execute_result"
    }
   ],
   "source": [
    "sacr_gridsearch.best_params_"
   ]
  },
  {
   "cell_type": "code",
   "execution_count": 16,
   "metadata": {},
   "outputs": [
    {
     "data": {
      "image/png": "[encoded data removed]",
      "text/plain": [
       "<Figure size 1000x600 with 1 Axes>"
      ]
     },
     "metadata": {},
     "output_type": "display_data"
    }
   ],
   "source": [
    "# Create the plot\n",
    "plt.figure(figsize=(10, 6))\n",
    "\n",
    "# Plot mean test scores with error bars\n",
    "plt.plot(results['n_neighbors'], results['mean_test_score'], '-o', color='blue')\n",
    "\n",
    "# Add labels and legend\n",
    "plt.xlabel('Number of Neighbors')\n",
    "plt.ylabel('Accuracy estimate')\n",
    "plt.title('K-Nearest Neighbors Regression Performance')\n",
    "plt.tight_layout()\n",
    "plt.show()"
   ]
  },
  {
   "cell_type": "markdown",
   "metadata": {},
   "source": [
    "### Model Evaluation"
   ]
  },
  {
   "cell_type": "markdown",
   "metadata": {},
   "source": [
    "To evaluate how well our model predicts unseen data, we'll check its RMSPE on the test set. First, we need to retrain the K-NN regression model using 25 neighbors on the full training data. Scikit-learn handles this automatically when using `GridSearchCV`. To make predictions, we use the `predict` method from the fitted `GridSearchCV` object. We then calculate the RMSPE by computing the mean squared error with `mean_squared_error` and taking the square root. We use this method instead of the `score` method because `KNeighborsRegressor` uses a different default metric than RMSPE."
   ]
  },
  {
   "cell_type": "code",
   "execution_count": 17,
   "metadata": {},
   "outputs": [
    {
     "data": {
      "text/plain": [
       "93634.69577882248"
      ]
     },
     "execution_count": 17,
     "metadata": {},
     "output_type": "execute_result"
    }
   ],
   "source": [
    "# Make predictions on the test set\n",
    "sacramento_test[\"predicted\"] = sacr_gridsearch.predict(sacramento_test[[\"sq__ft\"]])\n",
    "\n",
    "# Calculate RMSPE\n",
    "rmspe = mean_squared_error(\n",
    "    y_true=sacramento_test[\"price\"],\n",
    "    y_pred=sacramento_test[\"predicted\"]\n",
    ")**0.5\n",
    "\n",
    "rmspe"
   ]
  },
  {
   "cell_type": "markdown",
   "metadata": {},
   "source": [
    "Our final model’s test error as assessed by RMSPE is $93,634\n",
    "\n",
    "> **Note:**\n",
    ">\n",
    "> The RMSPE is in the same units as the response variable, so for new observations, we expect prediction errors to be around $93,634. In this case, it’s not negligible and could significantly impact a home buyer's budget, influencing their decision to make an offer on a house."
   ]
  },
  {
   "cell_type": "markdown",
   "metadata": {},
   "source": [
    "We can visualize the predictions of our final model across various house sizes in Sacramento. \n",
    "\n",
    "We can overlay a prediction line on a scatter plot of the original housing price data to qualitatively assess how well the model fits the data. "
   ]
  },
  {
   "cell_type": "code",
   "execution_count": 19,
   "metadata": {},
   "outputs": [
    {
     "name": "stderr",
     "output_type": "stream",
     "text": [
      "/Users/hx/miniconda3/lib/python3.12/site-packages/sklearn/base.py:493: UserWarning: X does not have valid feature names, but KNeighborsRegressor was fitted with feature names\n",
      "  warnings.warn(\n"
     ]
    },
    {
     "data": {
      "image/png": "[encoded data removed]",
      "text/plain": [
       "<Figure size 640x480 with 1 Axes>"
      ]
     },
     "metadata": {},
     "output_type": "display_data"
    }
   ],
   "source": [
    "# Generate a range of house sizes for prediction\n",
    "sizes = np.linspace(sacramento[\"sq__ft\"].min(), sacramento[\"sq__ft\"].max(), 100).reshape(-1, 1)\n",
    "\n",
    "# Predict house prices for these sizes using the best model from GridSearchCV\n",
    "predicted_prices = sacr_gridsearch.predict(sizes)\n",
    "\n",
    "# Plot the original data\n",
    "plt.scatter(sacramento[\"sq__ft\"], sacramento[\"price\"], label=\"Actual Prices\")\n",
    "\n",
    "# Plot the model predictions as a line\n",
    "plt.plot(sizes, predicted_prices, color='red', label=\"Model Predictions\")\n",
    "\n",
    "# Add labels and legend\n",
    "plt.xlabel(\"House size (square feet)\")\n",
    "plt.ylabel(\"Price (USD)\")\n",
    "plt.title(\"Scatter Plot of House Size vs Price with Model Predictions\")\n",
    "plt.legend()\n",
    "plt.show();"
   ]
  },
  {
   "cell_type": "markdown",
   "metadata": {},
   "source": [
    "Don't worry about the details of this plot. This is simply depicting the predicted values of house price (red line) for the final KNN regression model.\n",
    "\n"
   ]
  },
  {
   "cell_type": "markdown",
   "metadata": {},
   "source": [
    "### Conclusion\n",
    "\n",
    "In this notebook, we worked through several steps to predict housing prices using square feet using a data set of 932 real estate transactions in Sacramento, California. Here's a summary of what we covered:\n",
    "\n",
    "1. **K-Nearest Neighbors Regression (KNN):** We implemented the KNN regression and evaluated its performance on a test dataset.\n",
    "\n",
    "2. **Cross-Validation:** We used cross-validation to determine the optimal $k$ value for our model.\n",
    "\n",
    "\n",
    "We hope this notebook has provided a practical understanding of data regression, model evaluation, and the application of machine learning algorithms like KNN. Feel free to experiment further with the dataset or the code to enhance your learning!"
   ]
  }
 ],
 "metadata": {
  "kernelspec": {
   "display_name": "dsi_participant",
   "language": "python",
   "name": "python3"
  },
  "language_info": {
   "codemirror_mode": {
    "name": "ipython",
    "version": 3
   },
   "file_extension": ".py",
   "mimetype": "text/x-python",
   "name": "python",
   "nbconvert_exporter": "python",
   "pygments_lexer": "ipython3",
   "version": "3.9.15"
  }
 },
 "nbformat": 4,
 "nbformat_minor": 4
}
